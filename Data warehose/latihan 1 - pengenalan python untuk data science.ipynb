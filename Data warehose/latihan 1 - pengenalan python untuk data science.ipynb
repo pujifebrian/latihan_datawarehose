{
 "cells": [
  {
   "cell_type": "markdown",
   "metadata": {},
   "source": [
    "(1). Silahkan print(8 / 7) dan berikan comment # Ini adalah pembagian, lihat contoh di bawah ini"
   ]
  },
  {
   "cell_type": "code",
   "execution_count": 1,
   "metadata": {},
   "outputs": [
    {
     "name": "stdout",
     "output_type": "stream",
     "text": [
      "32\n"
     ]
    }
   ],
   "source": [
    "# Ini adalah perkalian\n",
    "print(4 * 8)"
   ]
  },
  {
   "cell_type": "code",
   "execution_count": 2,
   "metadata": {},
   "outputs": [
    {
     "name": "stdout",
     "output_type": "stream",
     "text": [
      "1.1428571428571428\n"
     ]
    }
   ],
   "source": [
    "# Ini adalah pembagian\n",
    "print(8/7)"
   ]
  },
  {
   "cell_type": "markdown",
   "metadata": {},
   "source": [
    "\n",
    "Python sebagai kalkulator\n",
    "\n",
    "(2) Lihat beberapa contoh di bawah ini\n"
   ]
  },
  {
   "cell_type": "code",
   "execution_count": 3,
   "metadata": {},
   "outputs": [
    {
     "name": "stdout",
     "output_type": "stream",
     "text": [
      "10\n",
      "0\n",
      "15\n",
      "5.0\n",
      "16\n",
      "4\n"
     ]
    }
   ],
   "source": [
    "# Penambahan dan pengurangan\n",
    "print(5 + 5)\n",
    "print(5 - 5)\n",
    "\n",
    "# Perkalian dan pembagian\n",
    "print(3 * 5)\n",
    "print(10 / 2)\n",
    "\n",
    "# Perpangkatan\n",
    "print(4 ** 2)\n",
    "\n",
    "# Pembagian Modulo\n",
    "print(18 % 7)"
   ]
  },
  {
   "cell_type": "markdown",
   "metadata": {},
   "source": [
    "Jika kamu memilik uang seratus ribu rupiah di bank dan bank memberikan bunga 10 persen setiap tahunnya, berapakah uang yang kamu dapat dalam 7 tahun? Gunakan Python menjawabnya"
   ]
  },
  {
   "cell_type": "code",
   "execution_count": 4,
   "metadata": {},
   "outputs": [
    {
     "name": "stdout",
     "output_type": "stream",
     "text": [
      "194871.7100000001\n"
     ]
    }
   ],
   "source": [
    "print(100000 * 1.1 ** 7)"
   ]
  },
  {
   "cell_type": "markdown",
   "metadata": {},
   "source": [
    "(3) Buat variabel simpanan dengan nilai 100000, kemudian print variabel simpanan"
   ]
  },
  {
   "cell_type": "code",
   "execution_count": 5,
   "metadata": {},
   "outputs": [],
   "source": [
    "simpanan = 100000"
   ]
  },
  {
   "cell_type": "markdown",
   "metadata": {},
   "source": [
    "\n",
    "\n",
    "(4)\n",
    "\n",
    "    Buat variable faktor = 1.10\n",
    "    Gunakan variabel simpanan dan faktor untuk menentukan berapa hasil yang didapat dalam 10 tahun dan simpan dalam variabel hasil\n",
    "    print hasil\n",
    "\n"
   ]
  },
  {
   "cell_type": "code",
   "execution_count": 6,
   "metadata": {},
   "outputs": [
    {
     "name": "stdout",
     "output_type": "stream",
     "text": [
      "259374.24601000024\n"
     ]
    }
   ],
   "source": [
    "faktor = 1.10\n",
    "hasil = simpanan * faktor ** 10\n",
    "print(hasil)"
   ]
  },
  {
   "cell_type": "markdown",
   "metadata": {},
   "source": [
    "\n",
    "\n",
    "(5)\n",
    "\n",
    "    Kalikan simpanan dan faktor dan simpan dalam variabel hasil_1\n",
    "    Apakah tipe data dari hasil 1? Silahkan print tipe datanya\n",
    "    Buatlah variabel desc = \"Sains Data\"\n",
    "    Jumlahkan desc dengan desc bagaimana hasilnya? Simpan pada variabel dobel_desc\n",
    "    print dobel_desc\n",
    "\n"
   ]
  },
  {
   "cell_type": "code",
   "execution_count": 7,
   "metadata": {},
   "outputs": [
    {
     "name": "stdout",
     "output_type": "stream",
     "text": [
      "<class 'float'>\n",
      "Sains DataSains Data\n"
     ]
    }
   ],
   "source": [
    "hasil_1 = faktor * simpanan\n",
    "print(type(hasil_1))\n",
    "desc = \"Sains Data\"\n",
    "dobel_desc = desc + desc\n",
    "print(dobel_desc)"
   ]
  },
  {
   "cell_type": "markdown",
   "metadata": {},
   "source": [
    "\n",
    "Konversi tipe data / casting\n",
    "\n",
    "Kamu bisa merubah tipe data seperti berikut\n"
   ]
  },
  {
   "cell_type": "code",
   "execution_count": 8,
   "metadata": {},
   "outputs": [
    {
     "data": {
      "text/plain": [
       "'5'"
      ]
     },
     "execution_count": 8,
     "metadata": {},
     "output_type": "execute_result"
    }
   ],
   "source": [
    "a = 5\n",
    "a_baru = str(a)\n",
    "a_baru"
   ]
  },
  {
   "cell_type": "code",
   "execution_count": 9,
   "metadata": {},
   "outputs": [
    {
     "data": {
      "text/plain": [
       "str"
      ]
     },
     "execution_count": 9,
     "metadata": {},
     "output_type": "execute_result"
    }
   ],
   "source": [
    "type(a_baru)"
   ]
  },
  {
   "cell_type": "code",
   "execution_count": 10,
   "metadata": {},
   "outputs": [
    {
     "data": {
      "text/plain": [
       "300"
      ]
     },
     "execution_count": 10,
     "metadata": {},
     "output_type": "execute_result"
    }
   ],
   "source": [
    "b = '300'\n",
    "b_baru = int(b)\n",
    "b_baru"
   ]
  },
  {
   "cell_type": "code",
   "execution_count": null,
   "metadata": {},
   "outputs": [],
   "source": []
  }
 ],
 "metadata": {
  "kernelspec": {
   "display_name": "Python 3",
   "language": "python",
   "name": "python3"
  },
  "language_info": {
   "codemirror_mode": {
    "name": "ipython",
    "version": 3
   },
   "file_extension": ".py",
   "mimetype": "text/x-python",
   "name": "python",
   "nbconvert_exporter": "python",
   "pygments_lexer": "ipython3",
   "version": "3.8.5"
  }
 },
 "nbformat": 4,
 "nbformat_minor": 4
}
